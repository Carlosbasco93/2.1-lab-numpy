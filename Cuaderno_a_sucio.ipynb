{
 "cells": [
  {
   "cell_type": "code",
   "execution_count": 1,
   "id": "856581e3",
   "metadata": {},
   "outputs": [],
   "source": [
    "#help(np)"
   ]
  },
  {
   "cell_type": "code",
   "execution_count": 2,
   "id": "f062a3a3",
   "metadata": {},
   "outputs": [],
   "source": [
    "#1. Import the NUMPY package under the name np.\n",
    "import numpy as np"
   ]
  },
  {
   "cell_type": "code",
   "execution_count": 3,
   "id": "c7aceeba",
   "metadata": {},
   "outputs": [
    {
     "name": "stdout",
     "output_type": "stream",
     "text": [
      "1.21.5\n",
      "blas_mkl_info:\n",
      "    libraries = ['mkl_rt', 'pthread']\n",
      "    library_dirs = ['/Users/carlosbasco/opt/anaconda3/lib']\n",
      "    define_macros = [('SCIPY_MKL_H', None), ('HAVE_CBLAS', None)]\n",
      "    include_dirs = ['/Users/carlosbasco/opt/anaconda3/include']\n",
      "blas_opt_info:\n",
      "    libraries = ['mkl_rt', 'pthread']\n",
      "    library_dirs = ['/Users/carlosbasco/opt/anaconda3/lib']\n",
      "    define_macros = [('SCIPY_MKL_H', None), ('HAVE_CBLAS', None)]\n",
      "    include_dirs = ['/Users/carlosbasco/opt/anaconda3/include']\n",
      "lapack_mkl_info:\n",
      "    libraries = ['mkl_rt', 'pthread']\n",
      "    library_dirs = ['/Users/carlosbasco/opt/anaconda3/lib']\n",
      "    define_macros = [('SCIPY_MKL_H', None), ('HAVE_CBLAS', None)]\n",
      "    include_dirs = ['/Users/carlosbasco/opt/anaconda3/include']\n",
      "lapack_opt_info:\n",
      "    libraries = ['mkl_rt', 'pthread']\n",
      "    library_dirs = ['/Users/carlosbasco/opt/anaconda3/lib']\n",
      "    define_macros = [('SCIPY_MKL_H', None), ('HAVE_CBLAS', None)]\n",
      "    include_dirs = ['/Users/carlosbasco/opt/anaconda3/include']\n",
      "Supported SIMD extensions in this NumPy install:\n",
      "    baseline = SSE,SSE2,SSE3\n",
      "    found = SSSE3,SSE41,POPCNT,SSE42\n",
      "    not found = AVX,F16C,FMA3,AVX2,AVX512F,AVX512CD,AVX512_KNL,AVX512_SKX,AVX512_CLX,AVX512_CNL,AVX512_ICL\n"
     ]
    }
   ],
   "source": [
    "#2. Print the NUMPY version and the configuration.\n",
    "print(np.__version__)\n",
    "np.show_config()"
   ]
  },
  {
   "cell_type": "code",
   "execution_count": 4,
   "id": "93c7466f",
   "metadata": {},
   "outputs": [],
   "source": [
    "#3. Generate a 2x3x5 3-dimensional array with random values. Assign the array to variable \"a\"\n",
    "# Challenge: there are at least three easy ways that use numpy to generate random arrays. How many ways can you find?\n",
    "\n",
    "a = np.random.random((2,3,5))"
   ]
  },
  {
   "cell_type": "code",
   "execution_count": 5,
   "id": "cef29d03",
   "metadata": {},
   "outputs": [
    {
     "data": {
      "text/plain": [
       "array([[[0.60944597, 0.61522576, 0.61226521, 0.81305768, 0.43370182],\n",
       "        [0.91269414, 0.46145254, 0.55554789, 0.45297461, 0.49691576],\n",
       "        [0.73472385, 0.57297581, 0.54860159, 0.4874207 , 0.41736413]],\n",
       "\n",
       "       [[0.36359096, 0.4150056 , 0.36142456, 0.53786433, 0.46180499],\n",
       "        [0.58478655, 0.33404888, 0.06689473, 0.68509435, 0.83364758],\n",
       "        [0.41022608, 0.1293613 , 0.26827512, 0.72546252, 0.58952105]]])"
      ]
     },
     "execution_count": 5,
     "metadata": {},
     "output_type": "execute_result"
    }
   ],
   "source": [
    "#4. Print a.\n",
    "a"
   ]
  },
  {
   "cell_type": "code",
   "execution_count": 6,
   "id": "05a68258",
   "metadata": {},
   "outputs": [],
   "source": [
    "#5. Create a 5x2x3 3-dimensional array with all values equaling 1.\n",
    "#Assign the array to variable \"b\"\n",
    "\n",
    "b = np.ones((5,2,3))"
   ]
  },
  {
   "cell_type": "code",
   "execution_count": 7,
   "id": "de578b5a",
   "metadata": {},
   "outputs": [
    {
     "data": {
      "text/plain": [
       "array([[[1., 1., 1.],\n",
       "        [1., 1., 1.]],\n",
       "\n",
       "       [[1., 1., 1.],\n",
       "        [1., 1., 1.]],\n",
       "\n",
       "       [[1., 1., 1.],\n",
       "        [1., 1., 1.]],\n",
       "\n",
       "       [[1., 1., 1.],\n",
       "        [1., 1., 1.]],\n",
       "\n",
       "       [[1., 1., 1.],\n",
       "        [1., 1., 1.]]])"
      ]
     },
     "execution_count": 7,
     "metadata": {},
     "output_type": "execute_result"
    }
   ],
   "source": [
    "#6. Print b.\n",
    "b"
   ]
  },
  {
   "cell_type": "code",
   "execution_count": 8,
   "id": "a0398903",
   "metadata": {},
   "outputs": [
    {
     "data": {
      "text/plain": [
       "True"
      ]
     },
     "execution_count": 8,
     "metadata": {},
     "output_type": "execute_result"
    }
   ],
   "source": [
    "#7. Do a and b have the same size? How do you prove that in Python code?\n",
    "\n",
    "a.size == b.size"
   ]
  },
  {
   "cell_type": "code",
   "execution_count": 10,
   "id": "79ed2630",
   "metadata": {},
   "outputs": [
    {
     "ename": "ValueError",
     "evalue": "operands could not be broadcast together with shapes (2,3,5) (5,2,3) ",
     "output_type": "error",
     "traceback": [
      "\u001b[0;31m---------------------------------------------------------------------------\u001b[0m",
      "\u001b[0;31mValueError\u001b[0m                                Traceback (most recent call last)",
      "Input \u001b[0;32mIn [10]\u001b[0m, in \u001b[0;36m<cell line: 3>\u001b[0;34m()\u001b[0m\n\u001b[1;32m      1\u001b[0m \u001b[38;5;66;03m#8. Are you able to add a and b? Why or why not?\u001b[39;00m\n\u001b[0;32m----> 3\u001b[0m \u001b[43mnp\u001b[49m\u001b[38;5;241;43m.\u001b[39;49m\u001b[43madd\u001b[49m\u001b[43m(\u001b[49m\u001b[43ma\u001b[49m\u001b[43m,\u001b[49m\u001b[43mb\u001b[49m\u001b[43m)\u001b[49m\n\u001b[1;32m      4\u001b[0m \u001b[38;5;28;01mpass\u001b[39;00m\n",
      "\u001b[0;31mValueError\u001b[0m: operands could not be broadcast together with shapes (2,3,5) (5,2,3) "
     ]
    }
   ],
   "source": [
    "#8. Are you able to add a and b? Why or why not?\n",
    "\n",
    "np.add(a,b)\n",
    "pass\n",
    "#No permite sumar matrices de dimensiones diferentes"
   ]
  },
  {
   "cell_type": "code",
   "execution_count": 11,
   "id": "c911169d",
   "metadata": {},
   "outputs": [],
   "source": [
    "#9. Transpose b so that it has the same structure \n",
    "#of a (i.e. become a 2x3x5 array). Assign the transposed array to varialbe \"c\".\n",
    "\n",
    "c = np.transpose(b,(1,2,0))"
   ]
  },
  {
   "cell_type": "code",
   "execution_count": 12,
   "id": "4ab70433",
   "metadata": {},
   "outputs": [
    {
     "name": "stdout",
     "output_type": "stream",
     "text": [
      "(2, 3, 5)\n",
      "(5, 2, 3)\n",
      "(2, 3, 5)\n"
     ]
    }
   ],
   "source": [
    "#10. Try to add a and c. Now it should work. Assign the sum to varialbe \"d\". But why does it work now?\n",
    "print(a.shape)\n",
    "print(b.shape)\n",
    "print(c.shape)\n",
    "\n",
    "d = np.add(a,c)"
   ]
  },
  {
   "cell_type": "code",
   "execution_count": 13,
   "id": "cd4c7efb",
   "metadata": {},
   "outputs": [
    {
     "name": "stdout",
     "output_type": "stream",
     "text": [
      "[[[0.60944597 0.61522576 0.61226521 0.81305768 0.43370182]\n",
      "  [0.91269414 0.46145254 0.55554789 0.45297461 0.49691576]\n",
      "  [0.73472385 0.57297581 0.54860159 0.4874207  0.41736413]]\n",
      "\n",
      " [[0.36359096 0.4150056  0.36142456 0.53786433 0.46180499]\n",
      "  [0.58478655 0.33404888 0.06689473 0.68509435 0.83364758]\n",
      "  [0.41022608 0.1293613  0.26827512 0.72546252 0.58952105]]]\n",
      "[[[1.60944597 1.61522576 1.61226521 1.81305768 1.43370182]\n",
      "  [1.91269414 1.46145254 1.55554789 1.45297461 1.49691576]\n",
      "  [1.73472385 1.57297581 1.54860159 1.4874207  1.41736413]]\n",
      "\n",
      " [[1.36359096 1.4150056  1.36142456 1.53786433 1.46180499]\n",
      "  [1.58478655 1.33404888 1.06689473 1.68509435 1.83364758]\n",
      "  [1.41022608 1.1293613  1.26827512 1.72546252 1.58952105]]]\n"
     ]
    }
   ],
   "source": [
    "#11. Print a and d. Notice the difference and relation of the two array in terms of the values? Explain.\n",
    "\n",
    "print(a)\n",
    "print(d)\n",
    "#Hemos sumado 1.0 a cada elemento de la matriz a y lo hemos guardado en la matriz d"
   ]
  },
  {
   "cell_type": "code",
   "execution_count": 14,
   "id": "cf833158",
   "metadata": {},
   "outputs": [
    {
     "data": {
      "text/plain": [
       "array([[[0.60944597, 0.61522576, 0.61226521, 0.81305768, 0.43370182],\n",
       "        [0.91269414, 0.46145254, 0.55554789, 0.45297461, 0.49691576],\n",
       "        [0.73472385, 0.57297581, 0.54860159, 0.4874207 , 0.41736413]],\n",
       "\n",
       "       [[0.36359096, 0.4150056 , 0.36142456, 0.53786433, 0.46180499],\n",
       "        [0.58478655, 0.33404888, 0.06689473, 0.68509435, 0.83364758],\n",
       "        [0.41022608, 0.1293613 , 0.26827512, 0.72546252, 0.58952105]]])"
      ]
     },
     "execution_count": 14,
     "metadata": {},
     "output_type": "execute_result"
    }
   ],
   "source": [
    "#12. Multiply a and c. Assign the result to e.\n",
    "\n",
    "e = np.multiply(a,c)\n",
    "e"
   ]
  },
  {
   "cell_type": "code",
   "execution_count": 15,
   "id": "15ba51b5",
   "metadata": {},
   "outputs": [
    {
     "data": {
      "text/plain": [
       "array([[[ True,  True,  True,  True,  True],\n",
       "        [ True,  True,  True,  True,  True],\n",
       "        [ True,  True,  True,  True,  True]],\n",
       "\n",
       "       [[ True,  True,  True,  True,  True],\n",
       "        [ True,  True,  True,  True,  True],\n",
       "        [ True,  True,  True,  True,  True]]])"
      ]
     },
     "execution_count": 15,
     "metadata": {},
     "output_type": "execute_result"
    }
   ],
   "source": [
    "#13. Does e equal to a? Why or why not?\n",
    "\n",
    "a == e\n",
    "#Estamos multiplicando los elementos por 1.0 por lo que los valores no varian"
   ]
  },
  {
   "cell_type": "code",
   "execution_count": 16,
   "id": "c770635f",
   "metadata": {},
   "outputs": [
    {
     "name": "stdout",
     "output_type": "stream",
     "text": [
      "1.9126941376455395\n",
      "1.066894728342144\n",
      "1.516379201377886\n"
     ]
    }
   ],
   "source": [
    "#14. Identify the max, min, and mean values in d. Assign those values to variables \"d_max\", \"d_min\", and \"d_mean\"\n",
    "\n",
    "d_max = d.max()\n",
    "d_min = d.min()\n",
    "d_mean = d.mean()\n",
    "\n",
    "print (d_max)\n",
    "print (d_min)\n",
    "print (d_mean)"
   ]
  },
  {
   "cell_type": "code",
   "execution_count": 17,
   "id": "0e65f6fa",
   "metadata": {},
   "outputs": [],
   "source": [
    "#15. Now we want to label the values in d. \n",
    "#First create an empty array \"f\" with the same shape (i.e. 2x3x5) as d using `np.empty`.\n",
    "\n",
    "f = np.empty((2,3,5))"
   ]
  },
  {
   "cell_type": "code",
   "execution_count": 18,
   "id": "bd9f348a",
   "metadata": {},
   "outputs": [
    {
     "name": "stdout",
     "output_type": "stream",
     "text": [
      "d max:  1.9126941376455395\n",
      "d min:  1.066894728342144\n",
      "d mean:  1.516379201377886\n",
      "d:\n",
      "[[[1.609446 1.615226 1.612265 1.813058 1.433702]\n",
      "  [1.912694 1.461453 1.555548 1.452975 1.496916]\n",
      "  [1.734724 1.572976 1.548602 1.487421 1.417364]]\n",
      "\n",
      " [[1.363591 1.415006 1.361425 1.537864 1.461805]\n",
      "  [1.584787 1.334049 1.066895 1.685094 1.833648]\n",
      "  [1.410226 1.129361 1.268275 1.725463 1.589521]]]\n",
      "f:\n",
      "[[[0.609446 0.615226 0.612265 0.813058 0.433702]\n",
      "  [0.912694 0.461453 0.555548 0.452975 0.496916]\n",
      "  [0.734724 0.572976 0.548602 0.487421 0.417364]]\n",
      "\n",
      " [[0.363591 0.415006 0.361425 0.537864 0.461805]\n",
      "  [0.584787 0.334049 0.066895 0.685094 0.833648]\n",
      "  [0.410226 0.129361 0.268275 0.725463 0.589521]]]\n",
      "f tras loops:\n",
      "[[[75.000000 75.000000 75.000000 75.000000 25.000000]\n",
      "  [100.000000 25.000000 75.000000 25.000000 25.000000]\n",
      "  [75.000000 75.000000 75.000000 25.000000 25.000000]]\n",
      "\n",
      " [[25.000000 25.000000 25.000000 75.000000 25.000000]\n",
      "  [75.000000 25.000000 0.000000 75.000000 75.000000]\n",
      "  [25.000000 25.000000 25.000000 75.000000 75.000000]]]\n"
     ]
    }
   ],
   "source": [
    "\"\"\"\n",
    "#16. Populate the values in f. \n",
    "For each value in d, \n",
    "if it's larger than d_min but smaller than d_mean, assign 25 to the corresponding value in f.\n",
    "If a value in d is larger than d_mean but smaller than d_max, assign 75 to the corresponding value in f.\n",
    "If a value equals to d_mean, assign 50 to the corresponding value in f.\n",
    "Assign 0 to the corresponding value(s) in f for d_min in d.\n",
    "Assign 100 to the corresponding value(s) in f for d_max in d.\n",
    "In the end, f should have only the following values: 0, 25, 50, 75, and 100.\n",
    "Note: you don't have to use Numpy in this question.\n",
    "\"\"\"\n",
    "np.set_printoptions(formatter={\"float\": lambda x:\"%0.6f\"%(x)})\n",
    "\n",
    "print (\"d max: \",d_max)\n",
    "print (\"d min: \",d_min)\n",
    "print (\"d mean: \",d_mean)\n",
    "\n",
    "indice = 0\n",
    "filas = 0\n",
    "columnas = 0\n",
    "\n",
    "for i in d:\n",
    "    for j in i:\n",
    "        for k in j:\n",
    "            if k > d_min and k < d_mean:\n",
    "                f[indice][filas][columnas] = 25\n",
    "            elif k > d_mean and k < d_max:\n",
    "                f[indice][filas][columnas] = 75\n",
    "            elif k == d_mean:\n",
    "                f[indice][filas][columnas] = 50\n",
    "            elif k == d_min:\n",
    "                f[indice][filas][columnas] = 0\n",
    "            elif k == d_max:\n",
    "                f[indice][filas][columnas] = 100\n",
    "            columnas +=1\n",
    "        filas +=1\n",
    "        columnas = 0\n",
    "    indice +=1\n",
    "    filas = 0\n",
    "    columnas = 0"
   ]
  },
  {
   "cell_type": "code",
   "execution_count": 19,
   "id": "b7c65ad6",
   "metadata": {},
   "outputs": [
    {
     "name": "stdout",
     "output_type": "stream",
     "text": [
      "d:\n",
      "[[[1.609446 1.615226 1.612265 1.813058 1.433702]\n",
      "  [1.912694 1.461453 1.555548 1.452975 1.496916]\n",
      "  [1.734724 1.572976 1.548602 1.487421 1.417364]]\n",
      "\n",
      " [[1.363591 1.415006 1.361425 1.537864 1.461805]\n",
      "  [1.584787 1.334049 1.066895 1.685094 1.833648]\n",
      "  [1.410226 1.129361 1.268275 1.725463 1.589521]]]\n",
      "f:\n",
      "[[[75.000000 75.000000 75.000000 75.000000 25.000000]\n",
      "  [100.000000 25.000000 75.000000 25.000000 25.000000]\n",
      "  [75.000000 75.000000 75.000000 25.000000 25.000000]]\n",
      "\n",
      " [[25.000000 25.000000 25.000000 75.000000 25.000000]\n",
      "  [75.000000 25.000000 0.000000 75.000000 75.000000]\n",
      "  [25.000000 25.000000 25.000000 75.000000 75.000000]]]\n"
     ]
    }
   ],
   "source": [
    "#17. Print d and f. Do you have your expected f?\n",
    "\"\"\"\n",
    "For instance, if your d is:\n",
    "array([[[1.85836099, 1.67064465, 1.62576044, 1.40243961, 1.88454931],\n",
    "        [1.75354326, 1.69403643, 1.36729252, 1.61415071, 1.12104981],\n",
    "        [1.72201435, 1.1862918 , 1.87078449, 1.7726778 , 1.88180042]],\n",
    "\n",
    "       [[1.44747908, 1.31673383, 1.02000951, 1.52218947, 1.97066381],\n",
    "        [1.79129243, 1.74983003, 1.96028037, 1.85166831, 1.65450881],\n",
    "        [1.18068344, 1.9587381 , 1.00656599, 1.93402165, 1.73514584]]])\n",
    "Your f should be:\n",
    "array([[[ 75.,  75.,  75.,  25.,  75.],\n",
    "        [ 75.,  75.,  25.,  25.,  25.],\n",
    "        [ 75.,  25.,  75.,  75.,  75.]],\n",
    "\n",
    "       [[ 25.,  25.,  25.,  25., 100.],\n",
    "        [ 75.,  75.,  75.,  75.,  75.],\n",
    "        [ 25.,  75.,   0.,  75.,  75.]]])\n",
    "\"\"\"\n",
    "print(\"d:\")\n",
    "print(d)\n",
    "print(\"f:\")\n",
    "print(f)\n",
    "\n",
    "#Si."
   ]
  },
  {
   "cell_type": "code",
   "execution_count": 25,
   "id": "59c6c16d",
   "metadata": {},
   "outputs": [
    {
     "name": "stdout",
     "output_type": "stream",
     "text": [
      "d:\n",
      "[[[1.609446 1.615226 1.612265 1.813058 1.433702]\n",
      "  [1.912694 1.461453 1.555548 1.452975 1.496916]\n",
      "  [1.734724 1.572976 1.548602 1.487421 1.417364]]\n",
      "\n",
      " [[1.363591 1.415006 1.361425 1.537864 1.461805]\n",
      "  [1.584787 1.334049 1.066895 1.685094 1.833648]\n",
      "  [1.410226 1.129361 1.268275 1.725463 1.589521]]]\n",
      "f:\n",
      "[[[75.000000 75.000000 75.000000 75.000000 25.000000]\n",
      "  [100.000000 25.000000 75.000000 25.000000 25.000000]\n",
      "  [75.000000 75.000000 75.000000 25.000000 25.000000]]\n",
      "\n",
      " [[25.000000 25.000000 25.000000 75.000000 25.000000]\n",
      "  [75.000000 25.000000 0.000000 75.000000 75.000000]\n",
      "  [25.000000 25.000000 25.000000 75.000000 75.000000]]]\n",
      "\n",
      "array con letras:\n",
      "[[['D', 'D', 'D', 'D', 'B'], ['E', 'B', 'D', 'B', 'B'], ['D', 'D', 'D', 'B', 'B']], [['B', 'B', 'B', 'D', 'B'], ['D', 'B', 'A', 'D', 'D'], ['B', 'B', 'B', 'D', 'D']]]\n"
     ]
    }
   ],
   "source": [
    "\"\"\"\n",
    "#18. Bonus question: instead of using numbers (i.e. 0, 25, 50, 75, and 100), how to use string values \n",
    "(\"A\", \"B\", \"C\", \"D\", and \"E\") to label the array elements? You are expecting the result to be:\n",
    "array([[[ 'D',  'D',  'D',  'B',  'D'],\n",
    "        [ 'D',  'D',  'B',  'B',  'B'],\n",
    "        [ 'D',  'B',  'D',  'D',  'D']],\n",
    "\n",
    "       [[ 'B',  'B',  'B',  'B',  'E'],\n",
    "        [ 'D',  'D',  'D',  'D',  'D'],\n",
    "        [ 'B',  'D',   'A',  'D', 'D']]])\n",
    "Again, you don't need Numpy in this question.\n",
    "\"\"\"\n",
    "indice = []\n",
    "filas = []\n",
    "columnas = []\n",
    "\n",
    "for i in d:\n",
    "    for j in i:\n",
    "        for k in j:\n",
    "            if k > d_min and k < d_mean:\n",
    "                columnas.append(\"B\")\n",
    "            elif k > d_mean and k < d_max:\n",
    "                columnas.append(\"D\")\n",
    "            elif k == d_mean:\n",
    "                columnas.append(\"C\")\n",
    "            elif k == d_min:\n",
    "                columnas.append(\"A\")\n",
    "            elif k == d_max:\n",
    "                columnas.append(\"E\")\n",
    "        filas.append(columnas)\n",
    "        columnas = []\n",
    "    indice.append(filas)\n",
    "    filas = []\n",
    "    columnas = []\n",
    "    \n",
    "print(\"d:\")\n",
    "print(d)\n",
    "print(\"f:\")\n",
    "print(f)\n",
    "print()\n",
    "print(\"array con letras:\")\n",
    "print(indice)"
   ]
  },
  {
   "cell_type": "code",
   "execution_count": null,
   "id": "25b89169",
   "metadata": {},
   "outputs": [],
   "source": []
  }
 ],
 "metadata": {
  "kernelspec": {
   "display_name": "Python 3 (ipykernel)",
   "language": "python",
   "name": "python3"
  },
  "language_info": {
   "codemirror_mode": {
    "name": "ipython",
    "version": 3
   },
   "file_extension": ".py",
   "mimetype": "text/x-python",
   "name": "python",
   "nbconvert_exporter": "python",
   "pygments_lexer": "ipython3",
   "version": "3.9.12"
  }
 },
 "nbformat": 4,
 "nbformat_minor": 5
}
